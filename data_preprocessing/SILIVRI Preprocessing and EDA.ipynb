{
 "cells": [
  {
   "cell_type": "markdown",
   "id": "45947e35-322a-4fae-9526-bc8fa327ce22",
   "metadata": {},
   "source": [
    "# SILIVRI PRE-PROCESSING"
   ]
  },
  {
   "cell_type": "markdown",
   "id": "6c6da477-31fa-4dc5-b54d-872871986e1c",
   "metadata": {},
   "source": [
    "## Exploring the Directory"
   ]
  },
  {
   "cell_type": "code",
   "execution_count": 1,
   "id": "a584f02e-6233-47c3-9fdd-0c538ae656bb",
   "metadata": {},
   "outputs": [],
   "source": [
    "import os\n",
    "from os.path import join as opj\n",
    "import pandas as pd\n",
    "from pathlib import Path"
   ]
  },
  {
   "cell_type": "code",
   "execution_count": 2,
   "id": "d4c7c524-9f8c-49fc-935f-02774c2937fb",
   "metadata": {},
   "outputs": [],
   "source": [
    "folder_path='/home/boxx/Public/earthquake_model_evaluations/data/SilivriPaper_2019-09-01__2019-11-30'"
   ]
  },
  {
   "cell_type": "code",
   "execution_count": 3,
   "id": "d95c0b33-8597-4990-92cf-ff38c16d43c7",
   "metadata": {},
   "outputs": [
    {
     "name": "stdout",
     "output_type": "stream",
     "text": [
      "prepared_waveforms  processed_catalogs\traw_catalogs  raw_waveforms\n"
     ]
    }
   ],
   "source": [
    "!ls {folder_path}"
   ]
  },
  {
   "cell_type": "code",
   "execution_count": 4,
   "id": "4f7aa13e-7124-4d73-9a04-ced9f2f4d11e",
   "metadata": {},
   "outputs": [],
   "source": [
    "prepared_waveforms_path=opj(folder_path,'prepared_waveforms')\n",
    "processed_catalogs_path=opj(folder_path,'processed_catalogs')\n",
    "raw_catalogs_path=opj(folder_path,'raw_catalogs')\n",
    "raw_waveforms_path=opj(folder_path,'raw_waveforms')"
   ]
  },
  {
   "cell_type": "code",
   "execution_count": 5,
   "id": "5cb4657e-521c-4dc2-9282-2a7c182c62b6",
   "metadata": {
    "scrolled": true
   },
   "outputs": [
    {
     "name": "stdout",
     "output_type": "stream",
     "text": [
      "Prepared Waveforms:\n",
      "day_by_day  stations.json\n",
      "Raw Waveforms:\n",
      "day_by_day  full\n",
      "Processed Catalogs:\n",
      "afad_catalog.csv      kara74a_phase_picks.csv  sezim_hoca_silivri2019.csv\n",
      "kandilli_catalog.csv  obsolete\n",
      "Raw Catalogs:\n",
      "afad-phase-picks.txt  sezim_hoca_silivri2019_hyp.out\n",
      "obsolete\t      silivri-kandilli-katalog.txt\n",
      "phase-kara74a.dat\n"
     ]
    }
   ],
   "source": [
    "!echo Prepared Waveforms:\n",
    "!ls {prepared_waveforms_path}\n",
    "!echo Raw Waveforms:\n",
    "!ls {raw_waveforms_path}\n",
    "!echo Processed Catalogs:\n",
    "!ls {processed_catalogs_path}\n",
    "!echo Raw Catalogs:\n",
    "!ls {raw_catalogs_path}"
   ]
  },
  {
   "cell_type": "code",
   "execution_count": 6,
   "id": "3287c684-7f3e-4c14-b7d4-848cbed2e60c",
   "metadata": {},
   "outputs": [],
   "source": [
    "prepared_wfs_daily_path = opj(prepared_waveforms_path,'day_by_day')\n",
    "raw_wfs_daily_path = opj(raw_waveforms_path,'day_by_day')"
   ]
  },
  {
   "cell_type": "code",
   "execution_count": 7,
   "id": "8d586cbb-1978-49cc-b993-5be65fd6719e",
   "metadata": {},
   "outputs": [
    {
     "name": "stdout",
     "output_type": "stream",
     "text": [
      "Prepared Waveforms Day by day:\n",
      "ADVT  CAVI  CTYL  GELI\tISK   KCTX  LAP   ORLT\tSILT  UKOP\n",
      "ARMT  CRLT  ERIK  GONE\tIZI   KLYT  MDNY  OSMT\tSLVT  YLV\n",
      "BGKT  CTKS  EZN   HRTX\tKAVV  KRBG  MRMT  RKY\tTKR   stations.json\n"
     ]
    }
   ],
   "source": [
    "!echo Prepared Waveforms Day by day:\n",
    "!ls {prepared_wfs_daily_path}"
   ]
  },
  {
   "cell_type": "markdown",
   "id": "f55f4e9a-08ef-495f-89fe-27caf04c3f49",
   "metadata": {},
   "source": [
    "## Processing "
   ]
  },
  {
   "cell_type": "code",
   "execution_count": 8,
   "id": "9429df7b-93e7-4904-9cf0-3ceccf0252d1",
   "metadata": {},
   "outputs": [],
   "source": [
    "from mseed2npy import ms2np"
   ]
  },
  {
   "cell_type": "code",
   "execution_count": 9,
   "id": "d85978f7-591e-4bf5-9b18-4d4ef52be6a2",
   "metadata": {},
   "outputs": [],
   "source": [
    "source_path=prepared_wfs_daily_path\n",
    "output_path='home/ege/rawcovar/data/silivri/'"
   ]
  },
  {
   "cell_type": "code",
   "execution_count": null,
   "id": "ca117923-d950-47c1-ab88-7c5685969e83",
   "metadata": {
    "collapsed": true,
    "jupyter": {
     "outputs_hidden": true
    },
    "tags": []
   },
   "outputs": [
    {
     "name": "stdout",
     "output_type": "stream",
     "text": [
      "Initial Stream: 1 Trace(s) in Stream:\n",
      "KO.ADVT..HHN | 2019-11-06T23:59:58.220000Z - 2019-11-08T00:00:00.380000Z | 100.0 Hz, 8640217 samples\n",
      "Stream chosen for preprocessing: 1 Trace(s) in Stream:\n",
      "KO.ADVT..HHN | 2019-11-06T23:59:58.220000Z - 2019-11-08T00:00:00.380000Z | 100.0 Hz, 8640217 samples\n",
      "Stream saved at:  HHN__20191106T235958220000Z__20191108T000003920000Z.npy\n",
      "Initial Stream: 1 Trace(s) in Stream:\n",
      "KO.ADVT..HHZ | 2019-11-09T23:59:54.530000Z - 2019-11-11T00:00:01.040000Z | 100.0 Hz, 8640652 samples\n",
      "Stream chosen for preprocessing: 1 Trace(s) in Stream:\n",
      "KO.ADVT..HHZ | 2019-11-09T23:59:54.530000Z - 2019-11-11T00:00:01.040000Z | 100.0 Hz, 8640652 samples\n",
      "Stream saved at:  HHZ__20191109T235954530000Z__20191111T000003280000Z.npy\n",
      "Initial Stream: 1 Trace(s) in Stream:\n",
      "KO.ADVT..HHN | 2019-09-24T23:59:58.370000Z - 2019-09-26T00:00:01.980000Z | 100.0 Hz, 8640362 samples\n",
      "Stream chosen for preprocessing: 1 Trace(s) in Stream:\n",
      "KO.ADVT..HHN | 2019-09-24T23:59:58.370000Z - 2019-09-26T00:00:01.980000Z | 100.0 Hz, 8640362 samples\n",
      "Stream saved at:  HHN__20190924T235956000000Z__20190926T000004370000Z.npy\n",
      "Initial Stream: 1 Trace(s) in Stream:\n",
      "KO.ADVT..HHE | 2019-11-27T23:59:58.480000Z - 2019-11-29T00:00:03.320000Z | 100.0 Hz, 8640485 samples\n",
      "Stream chosen for preprocessing: 1 Trace(s) in Stream:\n",
      "KO.ADVT..HHE | 2019-11-27T23:59:58.480000Z - 2019-11-29T00:00:03.320000Z | 100.0 Hz, 8640485 samples\n",
      "Stream saved at:  HHE__20191127T235957110000Z__20191129T000003320000Z.npy\n",
      "Initial Stream: 1 Trace(s) in Stream:\n",
      "KO.ADVT..HHE | 2019-11-28T23:59:59.540000Z - 2019-11-30T00:00:01.210000Z | 100.0 Hz, 8640168 samples\n",
      "Stream chosen for preprocessing: 1 Trace(s) in Stream:\n",
      "KO.ADVT..HHE | 2019-11-28T23:59:59.540000Z - 2019-11-30T00:00:01.210000Z | 100.0 Hz, 8640168 samples\n",
      "Stream saved at:  HHE__20191128T235955030000Z__20191130T000002060000Z.npy\n",
      "Initial Stream: 1 Trace(s) in Stream:\n",
      "KO.ADVT..HHN | 2019-10-15T23:59:57.110000Z - 2019-10-17T00:00:02.890000Z | 100.0 Hz, 8640579 samples\n",
      "Stream chosen for preprocessing: 1 Trace(s) in Stream:\n",
      "KO.ADVT..HHN | 2019-10-15T23:59:57.110000Z - 2019-10-17T00:00:02.890000Z | 100.0 Hz, 8640579 samples\n",
      "Stream saved at:  HHN__20191015T235956190000Z__20191017T000002890000Z.npy\n",
      "Initial Stream: 1 Trace(s) in Stream:\n",
      "KO.ADVT..HHE | 2019-09-16T23:59:57.480000Z - 2019-09-18T00:00:00.600000Z | 100.0 Hz, 8640313 samples\n",
      "Stream chosen for preprocessing: 1 Trace(s) in Stream:\n",
      "KO.ADVT..HHE | 2019-09-16T23:59:57.480000Z - 2019-09-18T00:00:00.600000Z | 100.0 Hz, 8640313 samples\n",
      "Stream saved at:  HHE__20190916T235953000000Z__20190918T000003590000Z.npy\n",
      "Initial Stream: 1 Trace(s) in Stream:\n",
      "KO.ADVT..HHE | 2019-09-10T23:59:57.330000Z - 2019-09-12T00:00:00.500000Z | 100.0 Hz, 8640318 samples\n",
      "Stream chosen for preprocessing: 1 Trace(s) in Stream:\n",
      "KO.ADVT..HHE | 2019-09-10T23:59:57.330000Z - 2019-09-12T00:00:00.500000Z | 100.0 Hz, 8640318 samples\n",
      "Stream saved at:  HHE__20190910T235957330000Z__20190912T000001490000Z.npy\n",
      "Initial Stream: 1 Trace(s) in Stream:\n",
      "KO.ADVT..HHE | 2019-10-30T23:59:57.770000Z - 2019-11-01T00:00:00.200000Z | 100.0 Hz, 8640244 samples\n",
      "Stream chosen for preprocessing: 1 Trace(s) in Stream:\n",
      "KO.ADVT..HHE | 2019-10-30T23:59:57.770000Z - 2019-11-01T00:00:00.200000Z | 100.0 Hz, 8640244 samples\n",
      "Stream saved at:  HHE__20191030T235957770000Z__20191101T000003250000Z.npy\n",
      "Initial Stream: 1 Trace(s) in Stream:\n",
      "KO.ADVT..HHZ | 2019-09-27T23:59:57.220000Z - 2019-09-29T00:00:00.810000Z | 100.0 Hz, 8640360 samples\n",
      "Stream chosen for preprocessing: 1 Trace(s) in Stream:\n",
      "KO.ADVT..HHZ | 2019-09-27T23:59:57.220000Z - 2019-09-29T00:00:00.810000Z | 100.0 Hz, 8640360 samples\n",
      "Stream saved at:  HHZ__20190927T235957220000Z__20190929T000003480000Z.npy\n",
      "Initial Stream: 1 Trace(s) in Stream:\n",
      "KO.ADVT..HHN | 2019-11-22T23:59:58.370000Z - 2019-11-24T00:00:02.690000Z | 100.0 Hz, 8640433 samples\n",
      "Stream chosen for preprocessing: 1 Trace(s) in Stream:\n",
      "KO.ADVT..HHN | 2019-11-22T23:59:58.370000Z - 2019-11-24T00:00:02.690000Z | 100.0 Hz, 8640433 samples\n",
      "Stream saved at:  HHN__20191122T235957490000Z__20191124T000005090000Z.npy\n"
     ]
    }
   ],
   "source": [
    "for root, dirs, files in os.walk(source_path):\n",
    "    for filename in files: \n",
    "        file_path=opj(root,filename)\n",
    "\n",
    "        rel_path=os.path.relpath(root,source_path)\n",
    "        out_folder=opj(output_path,rel_path)\n",
    "\n",
    "        os.makedirs(out_folder,exist_ok=True)\n",
    "\n",
    "        base,ext=os.path.splitext(filename)\n",
    "        if ext=='.mseed':\n",
    "            new_filename= base+'_processed'+'.npy'\n",
    "    \n",
    "            outfile_path=opj(out_folder,new_filename)\n",
    "    \n",
    "            ms2np(file_path,outfile_path)"
   ]
  }
 ],
 "metadata": {
  "kernelspec": {
   "display_name": "Python 3 (ipykernel)",
   "language": "python",
   "name": "python3"
  },
  "language_info": {
   "codemirror_mode": {
    "name": "ipython",
    "version": 3
   },
   "file_extension": ".py",
   "mimetype": "text/x-python",
   "name": "python",
   "nbconvert_exporter": "python",
   "pygments_lexer": "ipython3",
   "version": "3.10.13"
  }
 },
 "nbformat": 4,
 "nbformat_minor": 5
}
