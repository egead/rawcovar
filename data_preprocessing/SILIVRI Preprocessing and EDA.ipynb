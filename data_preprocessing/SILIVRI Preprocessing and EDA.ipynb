{
 "cells": [
  {
   "cell_type": "markdown",
   "id": "45947e35-322a-4fae-9526-bc8fa327ce22",
   "metadata": {},
   "source": [
    "# SILIVRI PRE-PROCESSING"
   ]
  },
  {
   "cell_type": "markdown",
   "id": "6c6da477-31fa-4dc5-b54d-872871986e1c",
   "metadata": {},
   "source": [
    "## Exploring the Directory"
   ]
  },
  {
   "cell_type": "code",
   "execution_count": 1,
   "id": "a584f02e-6233-47c3-9fdd-0c538ae656bb",
   "metadata": {},
   "outputs": [],
   "source": [
    "import os\n",
    "from os.path import join as opj\n",
    "import pandas as pd\n",
    "from pathlib import Path"
   ]
  },
  {
   "cell_type": "code",
   "execution_count": 2,
   "id": "d4c7c524-9f8c-49fc-935f-02774c2937fb",
   "metadata": {},
   "outputs": [],
   "source": [
    "folder_path='/home/boxx/Public/earthquake_model_evaluations/data/SilivriPaper_2019-09-01__2019-11-30'"
   ]
  },
  {
   "cell_type": "code",
   "execution_count": 3,
   "id": "d95c0b33-8597-4990-92cf-ff38c16d43c7",
   "metadata": {},
   "outputs": [
    {
     "name": "stdout",
     "output_type": "stream",
     "text": [
      "prepared_waveforms  processed_catalogs\traw_catalogs  raw_waveforms\n"
     ]
    }
   ],
   "source": [
    "!ls {folder_path}"
   ]
  },
  {
   "cell_type": "code",
   "execution_count": 4,
   "id": "4f7aa13e-7124-4d73-9a04-ced9f2f4d11e",
   "metadata": {},
   "outputs": [],
   "source": [
    "prepared_waveforms_path=opj(folder_path,'prepared_waveforms')\n",
    "processed_catalogs_path=opj(folder_path,'processed_catalogs')\n",
    "raw_catalogs_path=opj(folder_path,'raw_catalogs')\n",
    "raw_waveforms_path=opj(folder_path,'raw_waveforms')"
   ]
  },
  {
   "cell_type": "code",
   "execution_count": 5,
   "id": "5cb4657e-521c-4dc2-9282-2a7c182c62b6",
   "metadata": {
    "collapsed": true,
    "jupyter": {
     "outputs_hidden": true
    },
    "scrolled": true
   },
   "outputs": [
    {
     "name": "stdout",
     "output_type": "stream",
     "text": [
      "Prepared Waveforms:\n",
      "day_by_day  stations.json\n",
      "Raw Waveforms:\n",
      "day_by_day  full\n",
      "Processed Catalogs:\n",
      "afad_catalog.csv      kara74a_phase_picks.csv  sezim_hoca_silivri2019.csv\n",
      "kandilli_catalog.csv  obsolete\n",
      "Raw Catalogs:\n",
      "afad-phase-picks.txt  sezim_hoca_silivri2019_hyp.out\n",
      "obsolete\t      silivri-kandilli-katalog.txt\n",
      "phase-kara74a.dat\n"
     ]
    }
   ],
   "source": [
    "!echo Prepared Waveforms:\n",
    "!ls {prepared_waveforms_path}\n",
    "!echo Raw Waveforms:\n",
    "!ls {raw_waveforms_path}\n",
    "!echo Processed Catalogs:\n",
    "!ls {processed_catalogs_path}\n",
    "!echo Raw Catalogs:\n",
    "!ls {raw_catalogs_path}"
   ]
  },
  {
   "cell_type": "code",
   "execution_count": 6,
   "id": "3287c684-7f3e-4c14-b7d4-848cbed2e60c",
   "metadata": {},
   "outputs": [],
   "source": [
    "prepared_wfs_daily_path = opj(prepared_waveforms_path,'day_by_day')\n",
    "raw_wfs_daily_path = opj(raw_waveforms_path,'day_by_day')"
   ]
  },
  {
   "cell_type": "code",
   "execution_count": 7,
   "id": "8d586cbb-1978-49cc-b993-5be65fd6719e",
   "metadata": {},
   "outputs": [
    {
     "name": "stdout",
     "output_type": "stream",
     "text": [
      "Prepared Waveforms Day by day:\n",
      "ADVT  CAVI  CTYL  GELI\tISK   KCTX  LAP   ORLT\tSILT  UKOP\n",
      "ARMT  CRLT  ERIK  GONE\tIZI   KLYT  MDNY  OSMT\tSLVT  YLV\n",
      "BGKT  CTKS  EZN   HRTX\tKAVV  KRBG  MRMT  RKY\tTKR   stations.json\n"
     ]
    }
   ],
   "source": [
    "!echo Prepared Waveforms Day by day:\n",
    "!ls {prepared_wfs_daily_path}"
   ]
  },
  {
   "cell_type": "markdown",
   "id": "f55f4e9a-08ef-495f-89fe-27caf04c3f49",
   "metadata": {},
   "source": [
    "## Processing "
   ]
  },
  {
   "cell_type": "code",
   "execution_count": 20,
   "id": "9429df7b-93e7-4904-9cf0-3ceccf0252d1",
   "metadata": {},
   "outputs": [],
   "source": [
    "from mseed2npy import ms2np"
   ]
  },
  {
   "cell_type": "code",
   "execution_count": 19,
   "id": "d85978f7-591e-4bf5-9b18-4d4ef52be6a2",
   "metadata": {},
   "outputs": [],
   "source": [
    "source_path=prepared_wfs_daily_path\n",
    "output_path='home/ege/rawcovar/data/silivri/'"
   ]
  },
  {
   "cell_type": "code",
   "execution_count": 23,
   "id": "ca117923-d950-47c1-ab88-7c5685969e83",
   "metadata": {},
   "outputs": [
    {
     "name": "stdout",
     "output_type": "stream",
     "text": [
      "Initial Stream: 1 Trace(s) in Stream:\n",
      "KO.ADVT..HHN | 2019-11-06T23:59:58.220000Z - 2019-11-08T00:00:00.380000Z | 100.0 Hz, 8640217 samples (masked)\n",
      "Stream chosen for preprocessing: 1 Trace(s) in Stream:\n",
      "KO.ADVT..HHN | 2019-11-06T23:59:58.220000Z - 2019-11-08T00:00:00.380000Z | 100.0 Hz, 8640217 samples (masked)\n"
     ]
    },
    {
     "ename": "NotImplementedError",
     "evalue": "Trace with masked values found. This is not supported for this operation. Try the split() method on Trace/Stream to produce a Stream with unmasked Traces.",
     "output_type": "error",
     "traceback": [
      "\u001b[0;31m---------------------------------------------------------------------------\u001b[0m",
      "\u001b[0;31mNotImplementedError\u001b[0m                       Traceback (most recent call last)",
      "Cell \u001b[0;32mIn[23], line 16\u001b[0m\n\u001b[1;32m     12\u001b[0m new_filename\u001b[38;5;241m=\u001b[39m base\u001b[38;5;241m+\u001b[39m\u001b[38;5;124m'\u001b[39m\u001b[38;5;124m_processed\u001b[39m\u001b[38;5;124m'\u001b[39m\u001b[38;5;241m+\u001b[39m\u001b[38;5;124m'\u001b[39m\u001b[38;5;124m.npy\u001b[39m\u001b[38;5;124m'\u001b[39m\n\u001b[1;32m     14\u001b[0m outfile_path\u001b[38;5;241m=\u001b[39mopj(out_folder,new_filename)\n\u001b[0;32m---> 16\u001b[0m \u001b[43mms2np\u001b[49m\u001b[43m(\u001b[49m\u001b[43mfile_path\u001b[49m\u001b[43m,\u001b[49m\u001b[43moutfile_path\u001b[49m\u001b[43m)\u001b[49m\n",
      "File \u001b[0;32m~/rawcovar/data_preprocessing/mseed2npy.py:60\u001b[0m, in \u001b[0;36mms2np\u001b[0;34m(stream_path, save_path)\u001b[0m\n\u001b[1;32m     57\u001b[0m \u001b[38;5;28mprint\u001b[39m(\u001b[38;5;124m\"\u001b[39m\u001b[38;5;124mStream chosen for preprocessing:\u001b[39m\u001b[38;5;124m\"\u001b[39m, chosen_stream)\n\u001b[1;32m     59\u001b[0m processed_stream\u001b[38;5;241m=\u001b[39mchosen_stream\u001b[38;5;241m.\u001b[39mcopy()\n\u001b[0;32m---> 60\u001b[0m \u001b[43mprocessed_stream\u001b[49m\u001b[38;5;241;43m.\u001b[39;49m\u001b[43mfilter\u001b[49m\u001b[43m(\u001b[49m\u001b[38;5;124;43m\"\u001b[39;49m\u001b[38;5;124;43mbandpass\u001b[39;49m\u001b[38;5;124;43m\"\u001b[39;49m\u001b[43m,\u001b[49m\u001b[43m \u001b[49m\u001b[43mfreqmin\u001b[49m\u001b[38;5;241;43m=\u001b[39;49m\u001b[38;5;241;43m1\u001b[39;49m\u001b[43m,\u001b[49m\u001b[43mfreqmax\u001b[49m\u001b[38;5;241;43m=\u001b[39;49m\u001b[38;5;241;43m20\u001b[39;49m\u001b[43m)\u001b[49m\n\u001b[1;32m     61\u001b[0m processed_stream\u001b[38;5;241m.\u001b[39mnormalize()\n\u001b[1;32m     63\u001b[0m \u001b[38;5;66;03m# SAVE STREAM AS .npy\u001b[39;00m\n",
      "File \u001b[0;32m/opt/anaconda3/envs/ege_tf/lib/python3.10/site-packages/decorator.py:232\u001b[0m, in \u001b[0;36mdecorate.<locals>.fun\u001b[0;34m(*args, **kw)\u001b[0m\n\u001b[1;32m    230\u001b[0m \u001b[38;5;28;01mif\u001b[39;00m \u001b[38;5;129;01mnot\u001b[39;00m kwsyntax:\n\u001b[1;32m    231\u001b[0m     args, kw \u001b[38;5;241m=\u001b[39m fix(args, kw, sig)\n\u001b[0;32m--> 232\u001b[0m \u001b[38;5;28;01mreturn\u001b[39;00m \u001b[43mcaller\u001b[49m\u001b[43m(\u001b[49m\u001b[43mfunc\u001b[49m\u001b[43m,\u001b[49m\u001b[43m \u001b[49m\u001b[38;5;241;43m*\u001b[39;49m\u001b[43m(\u001b[49m\u001b[43mextras\u001b[49m\u001b[43m \u001b[49m\u001b[38;5;241;43m+\u001b[39;49m\u001b[43m \u001b[49m\u001b[43margs\u001b[49m\u001b[43m)\u001b[49m\u001b[43m,\u001b[49m\u001b[43m \u001b[49m\u001b[38;5;241;43m*\u001b[39;49m\u001b[38;5;241;43m*\u001b[39;49m\u001b[43mkw\u001b[49m\u001b[43m)\u001b[49m\n",
      "File \u001b[0;32m/opt/anaconda3/envs/ege_tf/lib/python3.10/site-packages/obspy/core/util/decorator.py:231\u001b[0m, in \u001b[0;36mraise_if_masked\u001b[0;34m(func, *args, **kwargs)\u001b[0m\n\u001b[1;32m    226\u001b[0m     \u001b[38;5;28;01mif\u001b[39;00m np\u001b[38;5;241m.\u001b[39mma\u001b[38;5;241m.\u001b[39mis_masked(arr):\n\u001b[1;32m    227\u001b[0m         msg \u001b[38;5;241m=\u001b[39m \u001b[38;5;124m\"\u001b[39m\u001b[38;5;124mTrace with masked values found. This is not \u001b[39m\u001b[38;5;124m\"\u001b[39m \u001b[38;5;241m+\u001b[39m \\\n\u001b[1;32m    228\u001b[0m               \u001b[38;5;124m\"\u001b[39m\u001b[38;5;124msupported for this operation. Try the split() \u001b[39m\u001b[38;5;124m\"\u001b[39m \u001b[38;5;241m+\u001b[39m \\\n\u001b[1;32m    229\u001b[0m               \u001b[38;5;124m\"\u001b[39m\u001b[38;5;124mmethod on Trace/Stream to produce a Stream with \u001b[39m\u001b[38;5;124m\"\u001b[39m \u001b[38;5;241m+\u001b[39m \\\n\u001b[1;32m    230\u001b[0m               \u001b[38;5;124m\"\u001b[39m\u001b[38;5;124munmasked Traces.\u001b[39m\u001b[38;5;124m\"\u001b[39m\n\u001b[0;32m--> 231\u001b[0m         \u001b[38;5;28;01mraise\u001b[39;00m \u001b[38;5;167;01mNotImplementedError\u001b[39;00m(msg)\n\u001b[1;32m    232\u001b[0m \u001b[38;5;28;01mreturn\u001b[39;00m func(\u001b[38;5;241m*\u001b[39margs, \u001b[38;5;241m*\u001b[39m\u001b[38;5;241m*\u001b[39mkwargs)\n",
      "\u001b[0;31mNotImplementedError\u001b[0m: Trace with masked values found. This is not supported for this operation. Try the split() method on Trace/Stream to produce a Stream with unmasked Traces."
     ]
    }
   ],
   "source": [
    "for root, dirs, files in os.walk(source_path):\n",
    "    for filename in files: \n",
    "        file_path=opj(root,filename)\n",
    "\n",
    "        rel_path=os.path.relpath(root,source_path)\n",
    "        out_folder=opj(output_path,rel_path)\n",
    "\n",
    "        os.makedirs(out_folder,exist_ok=True)\n",
    "\n",
    "        base,ext=os.path.splitext(filename)\n",
    "        if ext=='.mseed':\n",
    "            new_filename= base+'_processed'+'.npy'\n",
    "    \n",
    "            outfile_path=opj(out_folder,new_filename)\n",
    "    \n",
    "            ms2np(file_path,outfile_path)"
   ]
  },
  {
   "cell_type": "code",
   "execution_count": null,
   "id": "651a45eb-b0fa-48dd-b8e5-7414ac0fda88",
   "metadata": {},
   "outputs": [],
   "source": []
  }
 ],
 "metadata": {
  "kernelspec": {
   "display_name": "Python 3 (ipykernel)",
   "language": "python",
   "name": "python3"
  },
  "language_info": {
   "codemirror_mode": {
    "name": "ipython",
    "version": 3
   },
   "file_extension": ".py",
   "mimetype": "text/x-python",
   "name": "python",
   "nbconvert_exporter": "python",
   "pygments_lexer": "ipython3",
   "version": "3.10.13"
  }
 },
 "nbformat": 4,
 "nbformat_minor": 5
}
