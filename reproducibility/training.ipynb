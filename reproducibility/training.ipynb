{
 "cells": [
  {
   "cell_type": "code",
   "execution_count": 1,
   "metadata": {},
   "outputs": [
    {
     "name": "stderr",
     "output_type": "stream",
     "text": [
      "2025-03-01 22:04:05.238492: I tensorflow/core/util/port.cc:111] oneDNN custom operations are on. You may see slightly different numerical results due to floating-point round-off errors from different computation orders. To turn them off, set the environment variable `TF_ENABLE_ONEDNN_OPTS=0`.\n",
      "2025-03-01 22:04:05.267911: E tensorflow/compiler/xla/stream_executor/cuda/cuda_dnn.cc:9342] Unable to register cuDNN factory: Attempting to register factory for plugin cuDNN when one has already been registered\n",
      "2025-03-01 22:04:05.267934: E tensorflow/compiler/xla/stream_executor/cuda/cuda_fft.cc:609] Unable to register cuFFT factory: Attempting to register factory for plugin cuFFT when one has already been registered\n",
      "2025-03-01 22:04:05.267953: E tensorflow/compiler/xla/stream_executor/cuda/cuda_blas.cc:1518] Unable to register cuBLAS factory: Attempting to register factory for plugin cuBLAS when one has already been registered\n",
      "2025-03-01 22:04:05.274151: I tensorflow/core/platform/cpu_feature_guard.cc:182] This TensorFlow binary is optimized to use available CPU instructions in performance-critical operations.\n",
      "To enable the following instructions: AVX2 AVX512F AVX512_VNNI FMA, in other operations, rebuild TensorFlow with the appropriate compiler flags.\n"
     ]
    }
   ],
   "source": [
    "from seismic_purifier import RepresentationLearningSingleAutoencoder, RepresentationLearningDenoisingSingleAutoencoder, RepresentationLearningMultipleAutoencoder\n",
    "from kfold_trainer import KfoldTrainer\n",
    "from config import KFOLD_SPLITS"
   ]
  },
  {
   "cell_type": "code",
   "execution_count": 2,
   "metadata": {},
   "outputs": [],
   "source": [
    "# Experiment name.\n",
    "EXP_NAME = \"exp_test\"\n",
    "\n",
    "# Should be one of the RepresentationLearningSingleAutoencoder, RepresentationLearningDenoisingSingleAutoencoder, RepresentationLearningMultipleAutoencoder\n",
    "MODEL_CLASSES = [RepresentationLearningSingleAutoencoder, RepresentationLearningDenoisingSingleAutoencoder, RepresentationLearningMultipleAutoencoder]\n",
    "\n",
    "# Should be stead,instance or raw.\n",
    "DATASETS = [\"raw\"]\n",
    "\n",
    "# Number of epochs\n",
    "NUM_EPOCHS = 10"
   ]
  },
  {
   "cell_type": "code",
   "execution_count": 3,
   "metadata": {},
   "outputs": [
    {
     "name": "stderr",
     "output_type": "stream",
     "text": [
      "2025-03-01 22:04:09.124750: I tensorflow/core/common_runtime/gpu/gpu_device.cc:1886] Created device /job:localhost/replica:0/task:0/device:GPU:0 with 434 MB memory:  -> device: 0, name: NVIDIA GeForce RTX 3090, pci bus id: 0000:19:00.0, compute capability: 8.6\n",
      "2025-03-01 22:04:09.125785: I tensorflow/core/common_runtime/gpu/gpu_device.cc:1886] Created device /job:localhost/replica:0/task:0/device:GPU:1 with 21855 MB memory:  -> device: 1, name: NVIDIA GeForce RTX 3090, pci bus id: 0000:1a:00.0, compute capability: 8.6\n",
      "2025-03-01 22:04:09.126692: I tensorflow/core/common_runtime/gpu/gpu_device.cc:1886] Created device /job:localhost/replica:0/task:0/device:GPU:2 with 21855 MB memory:  -> device: 2, name: NVIDIA GeForce RTX 3090, pci bus id: 0000:67:00.0, compute capability: 8.6\n",
      "2025-03-01 22:04:09.127598: I tensorflow/core/common_runtime/gpu/gpu_device.cc:1886] Created device /job:localhost/replica:0/task:0/device:GPU:3 with 21839 MB memory:  -> device: 3, name: NVIDIA GeForce RTX 3090, pci bus id: 0000:68:00.0, compute capability: 8.6\n"
     ]
    },
    {
     "ename": "NameError",
     "evalue": "name 'target_file' is not defined",
     "output_type": "error",
     "traceback": [
      "\u001b[0;31m---------------------------------------------------------------------------\u001b[0m",
      "\u001b[0;31mNameError\u001b[0m                                 Traceback (most recent call last)",
      "Cell \u001b[0;32mIn[3], line 8\u001b[0m\n\u001b[1;32m      4\u001b[0m \u001b[38;5;28;01mfor\u001b[39;00m split \u001b[38;5;129;01min\u001b[39;00m \u001b[38;5;28mrange\u001b[39m(KFOLD_SPLITS):\n\u001b[1;32m      5\u001b[0m     kfold_trainer \u001b[38;5;241m=\u001b[39m KfoldTrainer(\n\u001b[1;32m      6\u001b[0m         EXP_NAME, model_class, train_dataset, split, epochs\u001b[38;5;241m=\u001b[39mNUM_EPOCHS\n\u001b[1;32m      7\u001b[0m     )\n\u001b[0;32m----> 8\u001b[0m     \u001b[43mkfold_trainer\u001b[49m\u001b[38;5;241;43m.\u001b[39;49m\u001b[43mtrain\u001b[49m\u001b[43m(\u001b[49m\u001b[43m)\u001b[49m\n",
      "File \u001b[0;32m~/rawcovar/reproducibility/kfold_trainer.py:49\u001b[0m, in \u001b[0;36mKfoldTrainer.train\u001b[0;34m(self)\u001b[0m\n\u001b[1;32m     46\u001b[0m \u001b[38;5;28;01mdef\u001b[39;00m \u001b[38;5;21mtrain\u001b[39m(\n\u001b[1;32m     47\u001b[0m     \u001b[38;5;28mself\u001b[39m,\n\u001b[1;32m     48\u001b[0m ):\n\u001b[0;32m---> 49\u001b[0m     kfold_env \u001b[38;5;241m=\u001b[39m \u001b[43mKFoldEnvironment\u001b[49m\u001b[43m(\u001b[49m\n\u001b[1;32m     50\u001b[0m \u001b[43m        \u001b[49m\u001b[43mdataset\u001b[49m\u001b[38;5;241;43m=\u001b[39;49m\u001b[38;5;28;43mself\u001b[39;49m\u001b[38;5;241;43m.\u001b[39;49m\u001b[43mdataset\u001b[49m\u001b[43m,\u001b[49m\n\u001b[1;32m     51\u001b[0m \u001b[43m    \u001b[49m\u001b[43m)\u001b[49m\n\u001b[1;32m     53\u001b[0m     (\n\u001b[1;32m     54\u001b[0m         train_gen,\n\u001b[1;32m     55\u001b[0m         validation_gen,\n\u001b[1;32m     56\u001b[0m         __,\n\u001b[1;32m     57\u001b[0m         __,\n\u001b[1;32m     58\u001b[0m     ) \u001b[38;5;241m=\u001b[39m kfold_env\u001b[38;5;241m.\u001b[39mget_generators(\u001b[38;5;28mself\u001b[39m\u001b[38;5;241m.\u001b[39msplit)\n\u001b[1;32m     60\u001b[0m     makedirs(\n\u001b[1;32m     61\u001b[0m         get_checkpoint_dir(\n\u001b[1;32m     62\u001b[0m             \u001b[38;5;28mself\u001b[39m\u001b[38;5;241m.\u001b[39mexp_name, \u001b[38;5;28mself\u001b[39m\u001b[38;5;241m.\u001b[39mmodel_name, \u001b[38;5;28mself\u001b[39m\u001b[38;5;241m.\u001b[39mdataset, \u001b[38;5;28mself\u001b[39m\u001b[38;5;241m.\u001b[39msplit\n\u001b[1;32m     63\u001b[0m         ),\n\u001b[1;32m     64\u001b[0m         exist_ok\u001b[38;5;241m=\u001b[39m\u001b[38;5;28;01mTrue\u001b[39;00m,\n\u001b[1;32m     65\u001b[0m     )\n",
      "File \u001b[0;32m~/rawcovar/reproducibility/kfold_environment.py:162\u001b[0m, in \u001b[0;36mKFoldEnvironment.__init__\u001b[0;34m(self, dataset, preprocessed_dataset_directory, batch_size, stead_time_window, instance_time_window, raw_time_window, stead_waveforms_hdf5, stead_metadata_csv, instance_eq_waveforms_hdf5, instance_no_waveforms_hdf5, instance_eq_metadata_csv, instance_no_metadata_csv, raw_waveforms_hdf5, raw_waveforms_mseed, model_time_window, phase_ensured_crop_ratio, phase_ensuring_margin, n_splits, n_chunks, subsampling_factor, sampling_freq, train_val_ratio, freqmin, freqmax)\u001b[0m\n\u001b[1;32m    159\u001b[0m     \u001b[38;5;28mself\u001b[39m\u001b[38;5;241m.\u001b[39mdataset_time_window \u001b[38;5;241m=\u001b[39m \u001b[38;5;28mself\u001b[39m\u001b[38;5;241m.\u001b[39minstance_time_window\n\u001b[1;32m    161\u001b[0m \u001b[38;5;28;01mif\u001b[39;00m dataset \u001b[38;5;241m==\u001b[39m \u001b[38;5;124m\"\u001b[39m\u001b[38;5;124mraw\u001b[39m\u001b[38;5;124m\"\u001b[39m:\n\u001b[0;32m--> 162\u001b[0m     \u001b[38;5;28;43mself\u001b[39;49m\u001b[38;5;241;43m.\u001b[39;49m\u001b[43m_create_raw_hdf5\u001b[49m\u001b[43m(\u001b[49m\u001b[43mraw_waveforms_hdf5\u001b[49m\u001b[43m)\u001b[49m \n\u001b[1;32m    163\u001b[0m     metadata \u001b[38;5;241m=\u001b[39m \u001b[38;5;28mself\u001b[39m\u001b[38;5;241m.\u001b[39m_parse_raw_metadata(raw_waveforms_mseed)\n\u001b[1;32m    164\u001b[0m     \u001b[38;5;28mself\u001b[39m\u001b[38;5;241m.\u001b[39mraw_waveforms_hdf5 \u001b[38;5;241m=\u001b[39m raw_waveforms_hdf5\n",
      "File \u001b[0;32m~/rawcovar/reproducibility/kfold_environment.py:485\u001b[0m, in \u001b[0;36mKFoldEnvironment._create_raw_hdf5\u001b[0;34m(self, output_path)\u001b[0m\n\u001b[1;32m    482\u001b[0m output_file \u001b[38;5;241m=\u001b[39m os\u001b[38;5;241m.\u001b[39mpath\u001b[38;5;241m.\u001b[39mjoin(output_path, \u001b[38;5;124m\"\u001b[39m\u001b[38;5;124mraw_data.hdf5\u001b[39m\u001b[38;5;124m\"\u001b[39m)\n\u001b[1;32m    484\u001b[0m \u001b[38;5;66;03m# Check if the target file exists; if not, run the conversion.\u001b[39;00m\n\u001b[0;32m--> 485\u001b[0m \u001b[38;5;28;01mif\u001b[39;00m \u001b[38;5;129;01mnot\u001b[39;00m os\u001b[38;5;241m.\u001b[39mpath\u001b[38;5;241m.\u001b[39misfile(\u001b[43mtarget_file\u001b[49m):\n\u001b[1;32m    486\u001b[0m     \u001b[38;5;28mself\u001b[39m\u001b[38;5;241m.\u001b[39m_convert_mseed_to_hdf5(\n\u001b[1;32m    487\u001b[0m         output_file\u001b[38;5;241m=\u001b[39mtarget_file,\n\u001b[1;32m    488\u001b[0m         segment_length\u001b[38;5;241m=\u001b[39mRAW_TIME_WINDOW\n\u001b[1;32m    489\u001b[0m     )\n",
      "\u001b[0;31mNameError\u001b[0m: name 'target_file' is not defined"
     ]
    }
   ],
   "source": [
    "# For all splits, train the model over defined datasets.\n",
    "for train_dataset in DATASETS:\n",
    "    for model_class in MODEL_CLASSES:\n",
    "        for split in range(KFOLD_SPLITS):\n",
    "            kfold_trainer = KfoldTrainer(\n",
    "                EXP_NAME, model_class, train_dataset, split, epochs=NUM_EPOCHS\n",
    "            )\n",
    "            kfold_trainer.train()"
   ]
  }
 ],
 "metadata": {
  "kernelspec": {
   "display_name": "ege_tf",
   "language": "python",
   "name": "python3"
  },
  "language_info": {
   "codemirror_mode": {
    "name": "ipython",
    "version": 3
   },
   "file_extension": ".py",
   "mimetype": "text/x-python",
   "name": "python",
   "nbconvert_exporter": "python",
   "pygments_lexer": "ipython3",
   "version": "3.10.13"
  }
 },
 "nbformat": 4,
 "nbformat_minor": 4
}
