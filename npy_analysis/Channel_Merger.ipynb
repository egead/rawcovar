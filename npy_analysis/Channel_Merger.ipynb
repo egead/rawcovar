{
 "cells": [
  {
   "cell_type": "markdown",
   "metadata": {},
   "source": [
    "# Channel Merger Notebook"
   ]
  },
  {
   "cell_type": "code",
   "execution_count": 1,
   "metadata": {},
   "outputs": [],
   "source": [
    "import obspy\n",
    "import os"
   ]
  },
  {
   "cell_type": "code",
   "execution_count": 2,
   "metadata": {},
   "outputs": [],
   "source": [
    "folder_dir = \"/home/ege/rawcovar/ADVT_SUBSAMPLE/\""
   ]
  },
  {
   "cell_type": "code",
   "execution_count": 3,
   "metadata": {},
   "outputs": [],
   "source": [
    "file_list = []\n",
    "for root, dirs, files in os.walk(folder_dir):\n",
    "    for filename in files: \n",
    "        file_path=os.path.join(root,filename)\n",
    "        file_list.append(file_path)"
   ]
  },
  {
   "cell_type": "code",
   "execution_count": 4,
   "metadata": {},
   "outputs": [
    {
     "data": {
      "text/plain": [
       "13"
      ]
     },
     "execution_count": 4,
     "metadata": {},
     "output_type": "execute_result"
    }
   ],
   "source": [
    "len(file_list)"
   ]
  },
  {
   "cell_type": "code",
   "execution_count": 5,
   "metadata": {},
   "outputs": [],
   "source": [
    "merged_stream = obspy.Stream()\n",
    "\n",
    "for file_path in file_list:\n",
    "    stream = obspy.read(file_path)\n",
    "    merged_stream += stream\n"
   ]
  },
  {
   "cell_type": "code",
   "execution_count": null,
   "metadata": {},
   "outputs": [
    {
     "data": {
      "text/plain": [
       "2 Trace(s) in Stream:\n",
       "KO.ADVT..HHE | 2019-08-31T23:59:58.860000Z - 2019-09-09T00:00:00.150000Z | 100.0 Hz, 69120130 samples (masked)\n",
       "KO.ADVT..HHZ | 2019-11-25T23:59:56.020000Z - 2019-12-01T00:00:04.290000Z | 100.0 Hz, 43200828 samples (masked)"
      ]
     },
     "execution_count": 6,
     "metadata": {},
     "output_type": "execute_result"
    }
   ],
   "source": [
    "merged_stream.merge(method=0) #Merge traces of the same channel"
   ]
  },
  {
   "cell_type": "code",
   "execution_count": 7,
   "metadata": {},
   "outputs": [
    {
     "data": {
      "text/plain": [
       "2 Trace(s) in Stream:\n",
       "KO.ADVT..HHE | 2019-08-31T23:59:58.860000Z - 2019-09-09T00:00:00.150000Z | 100.0 Hz, 69120130 samples (masked)\n",
       "KO.ADVT..HHZ | 2019-11-25T23:59:56.020000Z - 2019-12-01T00:00:04.290000Z | 100.0 Hz, 43200828 samples (masked)"
      ]
     },
     "execution_count": 7,
     "metadata": {},
     "output_type": "execute_result"
    }
   ],
   "source": [
    "merged_stream"
   ]
  }
 ],
 "metadata": {
  "kernelspec": {
   "display_name": "ege_tf",
   "language": "python",
   "name": "python3"
  },
  "language_info": {
   "codemirror_mode": {
    "name": "ipython",
    "version": 3
   },
   "file_extension": ".py",
   "mimetype": "text/x-python",
   "name": "python",
   "nbconvert_exporter": "python",
   "pygments_lexer": "ipython3",
   "version": "3.10.13"
  }
 },
 "nbformat": 4,
 "nbformat_minor": 2
}
