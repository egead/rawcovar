{
 "cells": [
  {
   "cell_type": "markdown",
   "metadata": {},
   "source": [
    "## Merge Module Tester"
   ]
  },
  {
   "cell_type": "code",
   "execution_count": 3,
   "metadata": {},
   "outputs": [],
   "source": [
    "import mseed2npy\n",
    "import os\n",
    "from os.path import join as opj\n",
    "import obspy"
   ]
  },
  {
   "cell_type": "code",
   "execution_count": 4,
   "metadata": {},
   "outputs": [],
   "source": [
    "folder_path='/home/ege/rawcovar/ADVT/'\n",
    "output_dir='/home/ege/rawcovar/ADVT_NPYS/'"
   ]
  },
  {
   "cell_type": "code",
   "execution_count": 5,
   "metadata": {},
   "outputs": [],
   "source": [
    "source_path=folder_path\n",
    "file_list = []\n",
    "\n",
    "for root, dirs, files in os.walk(source_path):\n",
    "    for filename in files: \n",
    "        base,ext=os.path.splitext(filename)\n",
    "        if ext=='.mseed':\n",
    "            file_path=opj(root,filename)\n",
    "            file_list.append(file_path)"
   ]
  },
  {
   "cell_type": "code",
   "execution_count": 7,
   "metadata": {},
   "outputs": [],
   "source": [
    "stream_copy = mseed2npy.merge_channels(file_list)"
   ]
  },
  {
   "cell_type": "code",
   "execution_count": 8,
   "metadata": {},
   "outputs": [
    {
     "data": {
      "text/plain": [
       "3 Trace(s) in Stream:\n",
       "KO.ADVT..HHE | 2019-08-31T23:59:58.860000Z - 2019-12-01T00:00:00.990000Z | 100.0 Hz, 786240214 samples (masked)\n",
       "KO.ADVT..HHN | 2019-08-31T23:59:57.120000Z - 2019-12-01T00:00:00.240000Z | 100.0 Hz, 786240313 samples (masked)\n",
       "KO.ADVT..HHZ | 2019-08-31T23:59:59.410000Z - 2019-12-01T00:00:04.290000Z | 100.0 Hz, 786240489 samples (masked)"
      ]
     },
     "execution_count": 8,
     "metadata": {},
     "output_type": "execute_result"
    }
   ],
   "source": [
    "stream_copy"
   ]
  },
  {
   "cell_type": "code",
   "execution_count": 13,
   "metadata": {},
   "outputs": [
    {
     "ename": "NotImplementedError",
     "evalue": "Trace with masked values found. This is not supported for this operation. Try the split() method on Trace/Stream to produce a Stream with unmasked Traces.",
     "output_type": "error",
     "traceback": [
      "\u001b[0;31m---------------------------------------------------------------------------\u001b[0m",
      "\u001b[0;31mNotImplementedError\u001b[0m                       Traceback (most recent call last)",
      "Cell \u001b[0;32mIn[13], line 11\u001b[0m\n\u001b[1;32m      1\u001b[0m \u001b[38;5;66;03m#for tr in stream_copy:\u001b[39;00m\n\u001b[1;32m      2\u001b[0m \u001b[38;5;66;03m#        tr.resample(100)\u001b[39;00m\n\u001b[1;32m      3\u001b[0m     \n\u001b[0;32m   (...)\u001b[0m\n\u001b[1;32m      7\u001b[0m \n\u001b[1;32m      8\u001b[0m \u001b[38;5;66;03m# print(\"Stream chosen for preprocessing:\", chosen_stream)\u001b[39;00m\n\u001b[1;32m     10\u001b[0m processed_stream \u001b[38;5;241m=\u001b[39m stream_copy\u001b[38;5;241m.\u001b[39mcopy()\n\u001b[0;32m---> 11\u001b[0m \u001b[43mprocessed_stream\u001b[49m\u001b[38;5;241;43m.\u001b[39;49m\u001b[43mfilter\u001b[49m\u001b[43m(\u001b[49m\u001b[38;5;124;43m\"\u001b[39;49m\u001b[38;5;124;43mbandpass\u001b[39;49m\u001b[38;5;124;43m\"\u001b[39;49m\u001b[43m,\u001b[49m\u001b[43m \u001b[49m\u001b[43mfreqmin\u001b[49m\u001b[38;5;241;43m=\u001b[39;49m\u001b[38;5;241;43m1\u001b[39;49m\u001b[43m,\u001b[49m\u001b[43m \u001b[49m\u001b[43mfreqmax\u001b[49m\u001b[38;5;241;43m=\u001b[39;49m\u001b[38;5;241;43m20\u001b[39;49m\u001b[43m)\u001b[49m\n\u001b[1;32m     12\u001b[0m processed_stream\u001b[38;5;241m.\u001b[39mnormalize()\n",
      "File \u001b[0;32m/opt/anaconda3/envs/ege_tf/lib/python3.10/site-packages/decorator.py:232\u001b[0m, in \u001b[0;36mdecorate.<locals>.fun\u001b[0;34m(*args, **kw)\u001b[0m\n\u001b[1;32m    230\u001b[0m \u001b[38;5;28;01mif\u001b[39;00m \u001b[38;5;129;01mnot\u001b[39;00m kwsyntax:\n\u001b[1;32m    231\u001b[0m     args, kw \u001b[38;5;241m=\u001b[39m fix(args, kw, sig)\n\u001b[0;32m--> 232\u001b[0m \u001b[38;5;28;01mreturn\u001b[39;00m \u001b[43mcaller\u001b[49m\u001b[43m(\u001b[49m\u001b[43mfunc\u001b[49m\u001b[43m,\u001b[49m\u001b[43m \u001b[49m\u001b[38;5;241;43m*\u001b[39;49m\u001b[43m(\u001b[49m\u001b[43mextras\u001b[49m\u001b[43m \u001b[49m\u001b[38;5;241;43m+\u001b[39;49m\u001b[43m \u001b[49m\u001b[43margs\u001b[49m\u001b[43m)\u001b[49m\u001b[43m,\u001b[49m\u001b[43m \u001b[49m\u001b[38;5;241;43m*\u001b[39;49m\u001b[38;5;241;43m*\u001b[39;49m\u001b[43mkw\u001b[49m\u001b[43m)\u001b[49m\n",
      "File \u001b[0;32m/opt/anaconda3/envs/ege_tf/lib/python3.10/site-packages/obspy/core/util/decorator.py:231\u001b[0m, in \u001b[0;36mraise_if_masked\u001b[0;34m(func, *args, **kwargs)\u001b[0m\n\u001b[1;32m    226\u001b[0m     \u001b[38;5;28;01mif\u001b[39;00m np\u001b[38;5;241m.\u001b[39mma\u001b[38;5;241m.\u001b[39mis_masked(arr):\n\u001b[1;32m    227\u001b[0m         msg \u001b[38;5;241m=\u001b[39m \u001b[38;5;124m\"\u001b[39m\u001b[38;5;124mTrace with masked values found. This is not \u001b[39m\u001b[38;5;124m\"\u001b[39m \u001b[38;5;241m+\u001b[39m \\\n\u001b[1;32m    228\u001b[0m               \u001b[38;5;124m\"\u001b[39m\u001b[38;5;124msupported for this operation. Try the split() \u001b[39m\u001b[38;5;124m\"\u001b[39m \u001b[38;5;241m+\u001b[39m \\\n\u001b[1;32m    229\u001b[0m               \u001b[38;5;124m\"\u001b[39m\u001b[38;5;124mmethod on Trace/Stream to produce a Stream with \u001b[39m\u001b[38;5;124m\"\u001b[39m \u001b[38;5;241m+\u001b[39m \\\n\u001b[1;32m    230\u001b[0m               \u001b[38;5;124m\"\u001b[39m\u001b[38;5;124munmasked Traces.\u001b[39m\u001b[38;5;124m\"\u001b[39m\n\u001b[0;32m--> 231\u001b[0m         \u001b[38;5;28;01mraise\u001b[39;00m \u001b[38;5;167;01mNotImplementedError\u001b[39;00m(msg)\n\u001b[1;32m    232\u001b[0m \u001b[38;5;28;01mreturn\u001b[39;00m func(\u001b[38;5;241m*\u001b[39margs, \u001b[38;5;241m*\u001b[39m\u001b[38;5;241m*\u001b[39mkwargs)\n",
      "\u001b[0;31mNotImplementedError\u001b[0m: Trace with masked values found. This is not supported for this operation. Try the split() method on Trace/Stream to produce a Stream with unmasked Traces."
     ]
    }
   ],
   "source": [
    "#for tr in stream_copy:\n",
    "#        tr.resample(100)\n",
    "    \n",
    "# Re-create a stream with traces that are not masked. Masked traces were present in some data.\n",
    "# split_stream = stream_copy.split()\n",
    "# chosen_stream = obspy.Stream(traces=[tr for tr in split_stream if not np.ma.is_masked(tr.data)])\n",
    "\n",
    "# print(\"Stream chosen for preprocessing:\", chosen_stream)\n",
    "\n",
    "processed_stream = stream_copy.copy()\n",
    "processed_stream.filter(\"bandpass\", freqmin=1, freqmax=20)\n",
    "processed_stream.normalize()"
   ]
  },
  {
   "cell_type": "code",
   "execution_count": null,
   "metadata": {},
   "outputs": [],
   "source": [
    "mseed2npy.tw_2_npy(processed_stream, output_dir)"
   ]
  }
 ],
 "metadata": {
  "kernelspec": {
   "display_name": "ege_tf",
   "language": "python",
   "name": "python3"
  },
  "language_info": {
   "codemirror_mode": {
    "name": "ipython",
    "version": 3
   },
   "file_extension": ".py",
   "mimetype": "text/x-python",
   "name": "python",
   "nbconvert_exporter": "python",
   "pygments_lexer": "ipython3",
   "version": "3.10.13"
  }
 },
 "nbformat": 4,
 "nbformat_minor": 2
}
