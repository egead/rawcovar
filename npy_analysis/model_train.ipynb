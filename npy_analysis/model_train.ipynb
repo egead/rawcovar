{
 "cells": [
  {
   "cell_type": "code",
   "execution_count": 10,
   "metadata": {},
   "outputs": [],
   "source": [
    "from tensorflow import keras\n",
    "import numpy as np\n",
    "import os\n",
    "from seismic_purifier.config import BATCH_SIZE\n",
    "from seismic_purifier.representation_learning_models import (\n",
    "    RepresentationLearningSingleAutoencoder,\n",
    "    RepresentationLearningDenoisingSingleAutoencoder,\n",
    "    RepresentationLearningMultipleAutoencoder\n",
    ")"
   ]
  },
  {
   "cell_type": "code",
   "execution_count": 11,
   "metadata": {},
   "outputs": [],
   "source": [
    "# ============================\n",
    "# 1. Configuration\n",
    "# ============================\n",
    "\n",
    "# Paths to your data\n",
    "TRAIN_DATA_PATH = \"/home/ege/rawcovar_data/processed_data/KO.MRMT.20200908_235818.npy\"\n",
    "\n",
    "# Directory to save checkpoints and the final model\n",
    "CHECKPOINT_DIR = 'checkpoints'\n",
    "MODEL_SAVE_PATH = 'checkpoints/KO.MRMT_20200909_representation_single_20epochs.h5'\n",
    "\n",
    "# Training parameters\n",
    "EPOCHS = 20\n",
    "LEARNING_RATE = 1e-3"
   ]
  },
  {
   "cell_type": "code",
   "execution_count": 12,
   "metadata": {},
   "outputs": [
    {
     "name": "stdout",
     "output_type": "stream",
     "text": [
      "Training data shape: (692, 3000, 3)\n"
     ]
    }
   ],
   "source": [
    "# Ensure directories exist\n",
    "os.makedirs(CHECKPOINT_DIR, exist_ok=True)\n",
    "os.makedirs(os.path.dirname(MODEL_SAVE_PATH), exist_ok=True)\n",
    "\n",
    "# ============================\n",
    "# 2. Data loading\n",
    "# ============================\n",
    "X_train = np.load(TRAIN_DATA_PATH)  # Expected shape: (num_samples, 3000, 3)\n",
    "print(f\"Training data shape: {X_train.shape}\")"
   ]
  },
  {
   "cell_type": "code",
   "execution_count": 13,
   "metadata": {},
   "outputs": [
    {
     "name": "stdout",
     "output_type": "stream",
     "text": [
      "False\n"
     ]
    },
    {
     "data": {
      "text/plain": [
       "0"
      ]
     },
     "execution_count": 13,
     "metadata": {},
     "output_type": "execute_result"
    }
   ],
   "source": [
    "print(np.any(np.isnan(X_train)))\n",
    "np.isnan(X_train).sum()"
   ]
  },
  {
   "cell_type": "code",
   "execution_count": 14,
   "metadata": {},
   "outputs": [],
   "source": [
    "# ============================\n",
    "# 3. Representation Learning Model Instantiation\n",
    "# ============================\n",
    "\n",
    "# Choose the model you want to train\n",
    "# For example, using RepresentationLearningSingleAutoencoder\n",
    "model = RepresentationLearningSingleAutoencoder(\n",
    "    name=\"rep_learning_autoencoder\")\n",
    "\n",
    "# Alternatively, you can choose other models:\n",
    "# model = RepresentationLearningDenoisingSingleAutoencoder(\n",
    "#     name=\"rep_learning_denoising_autoencoder\",\n",
    "#     input_noise_std=1e-6,\n",
    "#     denoising_noise_std=2e-1\n",
    "# )\n",
    "#model = RepresentationLearningMultipleAutoencoder(\n",
    " #    name=\"rep_learning_autoencoder_ensemble\",\n",
    "  #   input_noise_std=1e-6,\n",
    "   #  eps=1e-27\n",
    "#)"
   ]
  },
  {
   "cell_type": "code",
   "execution_count": 15,
   "metadata": {},
   "outputs": [
    {
     "data": {
      "text/plain": [
       "'rep_learning_autoencoder'"
      ]
     },
     "execution_count": 15,
     "metadata": {},
     "output_type": "execute_result"
    }
   ],
   "source": [
    "model.name"
   ]
  },
  {
   "cell_type": "code",
   "execution_count": 16,
   "metadata": {},
   "outputs": [],
   "source": [
    "# ============================\n",
    "# 4. Model Compilation\n",
    "# ============================\n",
    "optimizer = keras.optimizers.Adam(learning_rate=LEARNING_RATE) \n",
    "model.compile(optimizer=optimizer)"
   ]
  },
  {
   "cell_type": "code",
   "execution_count": 17,
   "metadata": {},
   "outputs": [],
   "source": [
    "# ============================\n",
    "# 5. Callbacks Setup\n",
    "# ============================\n",
    "# Define callbacks for saving checkpoints, early stopping.\n",
    "callbacks = [\n",
    "    keras.callbacks.ModelCheckpoint(\n",
    "        filepath=os.path.join(CHECKPOINT_DIR, 'autoencoder_epoch_{epoch:02d}.h5'),\n",
    "        save_weights_only=True,\n",
    "        save_freq='epoch',\n",
    "        verbose=1\n",
    "    ),\n",
    "    keras.callbacks.EarlyStopping(\n",
    "        monitor='loss',\n",
    "        patience=2,\n",
    "        restore_best_weights=True,\n",
    "        verbose=1\n",
    "    )\n",
    "]"
   ]
  },
  {
   "cell_type": "code",
   "execution_count": 18,
   "metadata": {},
   "outputs": [
    {
     "name": "stdout",
     "output_type": "stream",
     "text": [
      "Epoch 1/20\n",
      "3/3 [==============================] - ETA: 0s - loss: 1.3125 \n",
      "Epoch 1: saving model to checkpoints/autoencoder_epoch_01.h5\n",
      "3/3 [==============================] - 34s 1s/step - loss: 1.3125\n",
      "Epoch 2/20\n",
      "3/3 [==============================] - ETA: 0s - loss: 1.1531\n",
      "Epoch 2: saving model to checkpoints/autoencoder_epoch_02.h5\n",
      "3/3 [==============================] - 4s 1s/step - loss: 1.1531\n",
      "Epoch 3/20\n",
      "3/3 [==============================] - ETA: 0s - loss: 1.0570\n",
      "Epoch 3: saving model to checkpoints/autoencoder_epoch_03.h5\n",
      "3/3 [==============================] - 5s 1s/step - loss: 1.0570\n",
      "Epoch 4/20\n",
      "3/3 [==============================] - ETA: 0s - loss: 1.0123\n",
      "Epoch 4: saving model to checkpoints/autoencoder_epoch_04.h5\n",
      "3/3 [==============================] - 5s 1s/step - loss: 1.0123\n",
      "Epoch 5/20\n",
      "3/3 [==============================] - ETA: 0s - loss: 0.9911\n",
      "Epoch 5: saving model to checkpoints/autoencoder_epoch_05.h5\n",
      "3/3 [==============================] - 5s 2s/step - loss: 0.9911\n",
      "Epoch 6/20\n",
      "3/3 [==============================] - ETA: 0s - loss: 0.9781\n",
      "Epoch 6: saving model to checkpoints/autoencoder_epoch_06.h5\n",
      "3/3 [==============================] - 5s 2s/step - loss: 0.9781\n",
      "Epoch 7/20\n",
      "3/3 [==============================] - ETA: 0s - loss: 0.9697\n",
      "Epoch 7: saving model to checkpoints/autoencoder_epoch_07.h5\n",
      "3/3 [==============================] - 4s 1s/step - loss: 0.9697\n",
      "Epoch 8/20\n",
      "3/3 [==============================] - ETA: 0s - loss: 0.9620\n",
      "Epoch 8: saving model to checkpoints/autoencoder_epoch_08.h5\n",
      "3/3 [==============================] - 4s 1s/step - loss: 0.9620\n",
      "Epoch 9/20\n",
      "3/3 [==============================] - ETA: 0s - loss: 0.9554\n",
      "Epoch 9: saving model to checkpoints/autoencoder_epoch_09.h5\n",
      "3/3 [==============================] - 4s 1s/step - loss: 0.9554\n",
      "Epoch 10/20\n",
      "3/3 [==============================] - ETA: 0s - loss: 0.9494\n",
      "Epoch 10: saving model to checkpoints/autoencoder_epoch_10.h5\n",
      "3/3 [==============================] - 4s 1s/step - loss: 0.9494\n",
      "Epoch 11/20\n",
      "3/3 [==============================] - ETA: 0s - loss: 0.9436\n",
      "Epoch 11: saving model to checkpoints/autoencoder_epoch_11.h5\n",
      "3/3 [==============================] - 4s 1s/step - loss: 0.9436\n",
      "Epoch 12/20\n",
      "3/3 [==============================] - ETA: 0s - loss: 0.9376\n",
      "Epoch 12: saving model to checkpoints/autoencoder_epoch_12.h5\n",
      "3/3 [==============================] - 4s 1s/step - loss: 0.9376\n",
      "Epoch 13/20\n",
      "3/3 [==============================] - ETA: 0s - loss: 0.9315\n",
      "Epoch 13: saving model to checkpoints/autoencoder_epoch_13.h5\n",
      "3/3 [==============================] - 4s 1s/step - loss: 0.9315\n",
      "Epoch 14/20\n",
      "3/3 [==============================] - ETA: 0s - loss: 0.9257\n",
      "Epoch 14: saving model to checkpoints/autoencoder_epoch_14.h5\n",
      "3/3 [==============================] - 4s 1s/step - loss: 0.9257\n",
      "Epoch 15/20\n",
      "3/3 [==============================] - ETA: 0s - loss: 0.9201\n",
      "Epoch 15: saving model to checkpoints/autoencoder_epoch_15.h5\n",
      "3/3 [==============================] - 4s 1s/step - loss: 0.9201\n",
      "Epoch 16/20\n",
      "3/3 [==============================] - ETA: 0s - loss: 0.9141\n",
      "Epoch 16: saving model to checkpoints/autoencoder_epoch_16.h5\n",
      "3/3 [==============================] - 5s 1s/step - loss: 0.9141\n",
      "Epoch 17/20\n",
      "3/3 [==============================] - ETA: 0s - loss: 0.9082\n",
      "Epoch 17: saving model to checkpoints/autoencoder_epoch_17.h5\n",
      "3/3 [==============================] - 4s 1s/step - loss: 0.9082\n",
      "Epoch 18/20\n",
      "3/3 [==============================] - ETA: 0s - loss: 0.9025\n",
      "Epoch 18: saving model to checkpoints/autoencoder_epoch_18.h5\n",
      "3/3 [==============================] - 4s 1s/step - loss: 0.9025\n",
      "Epoch 19/20\n",
      "3/3 [==============================] - ETA: 0s - loss: 0.8972\n",
      "Epoch 19: saving model to checkpoints/autoencoder_epoch_19.h5\n",
      "3/3 [==============================] - 4s 1s/step - loss: 0.8972\n",
      "Epoch 20/20\n",
      "3/3 [==============================] - ETA: 0s - loss: 0.8922\n",
      "Epoch 20: saving model to checkpoints/autoencoder_epoch_20.h5\n",
      "3/3 [==============================] - 4s 1s/step - loss: 0.8922\n",
      "Model saved to checkpoints/KO.MRMT_20200909_representation_single_20epochs.h5\n"
     ]
    }
   ],
   "source": [
    "# ============================\n",
    "# 6. Training the Representation Learning Model and Save.\n",
    "# ============================\n",
    "fit_result = model.fit(X_train, \n",
    "                       epochs=EPOCHS, \n",
    "                       batch_size=BATCH_SIZE, \n",
    "                       callbacks=callbacks, \n",
    "                       shuffle=False)\n",
    "\n",
    "model.save_weights(MODEL_SAVE_PATH)\n",
    "print(f\"Model saved to {MODEL_SAVE_PATH}\")"
   ]
  },
  {
   "cell_type": "code",
   "execution_count": null,
   "metadata": {},
   "outputs": [],
   "source": []
  }
 ],
 "metadata": {
  "kernelspec": {
   "display_name": "RAWCOVAR",
   "language": "python",
   "name": "python3"
  },
  "language_info": {
   "codemirror_mode": {
    "name": "ipython",
    "version": 3
   },
   "file_extension": ".py",
   "mimetype": "text/x-python",
   "name": "python",
   "nbconvert_exporter": "python",
   "pygments_lexer": "ipython3",
   "version": "3.10.16"
  }
 },
 "nbformat": 4,
 "nbformat_minor": 4
}
