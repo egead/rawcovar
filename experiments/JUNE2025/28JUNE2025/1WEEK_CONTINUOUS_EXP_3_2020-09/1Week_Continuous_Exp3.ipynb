{
 "cells": [
  {
   "cell_type": "markdown",
   "id": "2ea46bb2",
   "metadata": {},
   "source": [
    "## 1 Week Continuous Experiment 3 2020-09-07\n",
    "\n",
    "Trained 1 Week Data (2020-09-07 week) for GAZK and MRMT stations on representation multiple model for 5 epochs\n",
    "\n",
    "Testing was done in EDC, GAZK and MRMT stations. "
   ]
  },
  {
   "cell_type": "markdown",
   "id": "4d74d6d5",
   "metadata": {},
   "source": []
  }
 ],
 "metadata": {
  "language_info": {
   "name": "python"
  }
 },
 "nbformat": 4,
 "nbformat_minor": 5
}
