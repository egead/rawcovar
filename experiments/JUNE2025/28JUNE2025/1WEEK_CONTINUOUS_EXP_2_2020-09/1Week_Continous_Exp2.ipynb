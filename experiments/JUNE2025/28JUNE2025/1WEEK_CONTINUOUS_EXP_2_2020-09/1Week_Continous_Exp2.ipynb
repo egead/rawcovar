{
 "cells": [
  {
   "cell_type": "markdown",
   "id": "ffee4e5b",
   "metadata": {},
   "source": [
    "Aim of this experiment is to test models on the other half of the month (2020-09)"
   ]
  },
  {
   "cell_type": "markdown",
   "id": "0a027481",
   "metadata": {},
   "source": []
  }
 ],
 "metadata": {
  "language_info": {
   "name": "python"
  }
 },
 "nbformat": 4,
 "nbformat_minor": 5
}
