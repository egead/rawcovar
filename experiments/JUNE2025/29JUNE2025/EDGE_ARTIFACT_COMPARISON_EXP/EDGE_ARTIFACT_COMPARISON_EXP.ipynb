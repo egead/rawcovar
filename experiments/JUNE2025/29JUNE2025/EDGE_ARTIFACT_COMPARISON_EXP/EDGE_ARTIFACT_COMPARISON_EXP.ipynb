{
 "cells": [
  {
   "cell_type": "markdown",
   "id": "a0946f3f",
   "metadata": {},
   "source": [
    "# EDGE ARTIFACT GLITCH COMPARISON EXPERIMENT\n",
    "\n",
    "We have already solved the edge artifact glitch problem created due to our preprocessing (bandpass filter) by padding each waveform for 3 seconds each on the beginning and the end (6 seconds total).\n",
    "\n",
    "The aim of this experiment is to compare model results before and after this glitch fix, look at the latent representations and understand the effect edge artifact glitch had on the models along with the improvements our fix made."
   ]
  }
 ],
 "metadata": {
  "language_info": {
   "name": "python"
  }
 },
 "nbformat": 4,
 "nbformat_minor": 5
}
