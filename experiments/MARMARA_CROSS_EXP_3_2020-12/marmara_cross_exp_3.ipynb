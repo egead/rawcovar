{
 "cells": [
  {
   "cell_type": "markdown",
   "id": "34e9adbd",
   "metadata": {},
   "source": [
    "# MARMARA Cross Experiment 3\n",
    "\n",
    "1 month data (December 2020 was used in training and testing). From the stations:\n",
    "\n",
    "- GEML\n",
    "- MDNY\n",
    "- YLV"
   ]
  },
  {
   "cell_type": "markdown",
   "id": "dc4e2a46",
   "metadata": {},
   "source": [
    "## X and Y data Statistics"
   ]
  },
  {
   "cell_type": "markdown",
   "id": "80c04a0e",
   "metadata": {},
   "source": [
    "### GEML"
   ]
  },
  {
   "cell_type": "code",
   "execution_count": 1,
   "id": "db7ab6e9",
   "metadata": {},
   "outputs": [
    {
     "data": {
      "text/plain": [
       "'\\nProcessing 89279 potential windows...\\n  Found 88708 windows that are good for all traces\\n\\nSummary:\\n  Started with 89279 potential windows\\n  Kept 88708 good windows (99.4%)\\n  Final shape: (88708, 3000, 3)\\n  Saved to: processed_data/KO.GEML.20201130_235959.npy\\n\\nLabel summary:\\n  Created labels for 88708 windows\\n  Windows with earthquakes: 198\\n\\nFinal results:\\n  X shape: (88708, 3000, 3)\\n  y_precise shape: (88708, 3000)\\n  y_condensed shape: (88708,)\\n  Everything is aligned and ready.\\nProcessed data shape: (88708, 3000, 3)\\nWindows with earthquakes: 198/88708\\n'"
      ]
     },
     "execution_count": 1,
     "metadata": {},
     "output_type": "execute_result"
    }
   ],
   "source": [
    "'''\n",
    "Processing 89279 potential windows...\n",
    "  Found 88708 windows that are good for all traces\n",
    "\n",
    "Summary:\n",
    "  Started with 89279 potential windows\n",
    "  Kept 88708 good windows (99.4%)\n",
    "  Final shape: (88708, 3000, 3)\n",
    "  Saved to: processed_data/KO.GEML.20201130_235959.npy\n",
    "\n",
    "Label summary:\n",
    "  Created labels for 88708 windows\n",
    "  Windows with earthquakes: 198\n",
    "\n",
    "Final results:\n",
    "  X shape: (88708, 3000, 3)\n",
    "  y_precise shape: (88708, 3000)\n",
    "  y_condensed shape: (88708,)\n",
    "  Everything is aligned and ready.\n",
    "Processed data shape: (88708, 3000, 3)\n",
    "Windows with earthquakes: 198/88708\n",
    "'''"
   ]
  },
  {
   "cell_type": "markdown",
   "id": "776ed8ab",
   "metadata": {},
   "source": [
    "### MDNY"
   ]
  },
  {
   "cell_type": "code",
   "execution_count": 2,
   "id": "1e4dba67",
   "metadata": {},
   "outputs": [
    {
     "data": {
      "text/plain": [
       "'\\nProcessing 89280 potential windows...\\n  Found 88688 windows that are good for all traces\\n\\nSummary:\\n  Started with 89280 potential windows\\n  Kept 88688 good windows (99.3%)\\n  Final shape: (88688, 3000, 3)\\n  Saved to: processed_data/KO.MDNY.20201130_235959.npy\\n\\nLabel summary:\\n  Created labels for 88688 windows\\n  Windows with earthquakes: 198\\n\\nFinal results:\\n  X shape: (88688, 3000, 3)\\n  y_precise shape: (88688, 3000)\\n  y_condensed shape: (88688,)\\n  Everything is aligned and ready.\\nProcessed data shape: (88688, 3000, 3)\\nWindows with earthquakes: 198/88688\\n'"
      ]
     },
     "execution_count": 2,
     "metadata": {},
     "output_type": "execute_result"
    }
   ],
   "source": [
    "'''\n",
    "Processing 89280 potential windows...\n",
    "  Found 88688 windows that are good for all traces\n",
    "\n",
    "Summary:\n",
    "  Started with 89280 potential windows\n",
    "  Kept 88688 good windows (99.3%)\n",
    "  Final shape: (88688, 3000, 3)\n",
    "  Saved to: processed_data/KO.MDNY.20201130_235959.npy\n",
    "\n",
    "Label summary:\n",
    "  Created labels for 88688 windows\n",
    "  Windows with earthquakes: 198\n",
    "\n",
    "Final results:\n",
    "  X shape: (88688, 3000, 3)\n",
    "  y_precise shape: (88688, 3000)\n",
    "  y_condensed shape: (88688,)\n",
    "  Everything is aligned and ready.\n",
    "Processed data shape: (88688, 3000, 3)\n",
    "Windows with earthquakes: 198/88688\n",
    "'''"
   ]
  },
  {
   "cell_type": "markdown",
   "id": "9080dd0b",
   "metadata": {},
   "source": [
    "### YLV"
   ]
  },
  {
   "cell_type": "code",
   "execution_count": 4,
   "id": "cc37ac4a",
   "metadata": {},
   "outputs": [
    {
     "data": {
      "text/plain": [
       "'\\nProcessing 89280 potential windows...\\n  Found 88714 windows that are good for all traces\\n\\nSummary:\\n  Started with 89280 potential windows\\n  Kept 88714 good windows (99.4%)\\n  Final shape: (88714, 3000, 3)\\n  Saved to: processed_data/KO.YLV.20201130_235959.npy\\n\\nLabel summary:\\n  Created labels for 88714 windows\\n  Windows with earthquakes: 198\\n\\nFinal results:\\n  X shape: (88714, 3000, 3)\\n  y_precise shape: (88714, 3000)\\n  y_condensed shape: (88714,)\\n  Everything is aligned and ready.\\nProcessed data shape: (88714, 3000, 3)\\nWindows with earthquakes: 198/88714\\n'"
      ]
     },
     "execution_count": 4,
     "metadata": {},
     "output_type": "execute_result"
    }
   ],
   "source": [
    "'''\n",
    "Processing 89280 potential windows...\n",
    "  Found 88714 windows that are good for all traces\n",
    "\n",
    "Summary:\n",
    "  Started with 89280 potential windows\n",
    "  Kept 88714 good windows (99.4%)\n",
    "  Final shape: (88714, 3000, 3)\n",
    "  Saved to: processed_data/KO.YLV.20201130_235959.npy\n",
    "\n",
    "Label summary:\n",
    "  Created labels for 88714 windows\n",
    "  Windows with earthquakes: 198\n",
    "\n",
    "Final results:\n",
    "  X shape: (88714, 3000, 3)\n",
    "  y_precise shape: (88714, 3000)\n",
    "  y_condensed shape: (88714,)\n",
    "  Everything is aligned and ready.\n",
    "Processed data shape: (88714, 3000, 3)\n",
    "Windows with earthquakes: 198/88714\n",
    "'''"
   ]
  }
 ],
 "metadata": {
  "kernelspec": {
   "display_name": "dsml",
   "language": "python",
   "name": "python3"
  },
  "language_info": {
   "codemirror_mode": {
    "name": "ipython",
    "version": 3
   },
   "file_extension": ".py",
   "mimetype": "text/x-python",
   "name": "python",
   "nbconvert_exporter": "python",
   "pygments_lexer": "ipython3",
   "version": "3.12.0"
  }
 },
 "nbformat": 4,
 "nbformat_minor": 5
}
