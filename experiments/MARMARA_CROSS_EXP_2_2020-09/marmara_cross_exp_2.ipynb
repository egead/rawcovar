{
 "cells": [
  {
   "cell_type": "markdown",
   "metadata": {},
   "source": [
    "# MARMARA Cross Experiment 2 \n",
    "\n",
    "In this experiment we train and test all models in RAWCOVAR framework across the three stations (**MRMT**, **SUSR** and **GAZK**).\n",
    "\n",
    "Training on **MRMT** and **GAZK**:\n",
    "\n",
    "- Single autoencoder (5, 10 and 20 epochs)\n",
    "- Denoising single (5, 10, 20 epochs)\n",
    "- Multiple autoencoder (5, 10 and 20 epochs)\n",
    "\n",
    "with the default model parameters. This models are to tested on three stations **SUSR, MRMT** and **GAZK**. Checkpoints of models are saved."
   ]
  },
  {
   "cell_type": "markdown",
   "metadata": {},
   "source": [
    "For denoising and single autoencoder models ClassifierAutocovariance(model) was used as model classifier"
   ]
  },
  {
   "cell_type": "markdown",
   "metadata": {},
   "source": [
    "- We see that the data overfits for 20 epochs for most models. We could change the learning rate to solve this, but will leave it as is for now. "
   ]
  }
 ],
 "metadata": {
  "language_info": {
   "name": "python"
  }
 },
 "nbformat": 4,
 "nbformat_minor": 2
}
